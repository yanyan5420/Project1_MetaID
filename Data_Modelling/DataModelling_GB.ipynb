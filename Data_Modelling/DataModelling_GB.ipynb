{
 "cells": [
  {
   "cell_type": "code",
   "execution_count": 1,
   "metadata": {},
   "outputs": [],
   "source": [
    "import pandas as pd\n",
    "import numpy as np\n",
    "import re\n",
    "import random\n",
    "from sklearn.model_selection import KFold\n",
    "from sklearn.preprocessing import StandardScaler\n",
    "import copy\n",
    "from sklearn.model_selection import cross_val_score, cross_val_predict, RandomizedSearchCV, StratifiedKFold, GridSearchCV\n",
    "from scipy.stats import uniform\n",
    "from sklearn.base import clone\n",
    "from sklearn.svm import SVR\n",
    "from sklearn.metrics import mean_squared_error\n",
    "from sklearn.metrics import median_absolute_error,mean_absolute_error\n",
    "from sklearn.metrics import r2_score\n",
    "from sklearn.preprocessing import scale\n",
    "import matplotlib.pyplot as plt\n",
    "from scipy.optimize import curve_fit\n",
    "from sklearn.ensemble import GradientBoostingRegressor\n",
    "from random import randint\n",
    "from sklearn.preprocessing import MinMaxScaler"
   ]
  },
  {
   "cell_type": "markdown",
   "metadata": {},
   "source": [
    "# 1. Import Data"
   ]
  },
  {
   "cell_type": "code",
   "execution_count": 2,
   "metadata": {},
   "outputs": [],
   "source": [
    "train_data = pd.read_csv(\"combined_train_with_features.csv\")\n",
    "valid_data = pd.read_csv(\"combined_valid_with_features.csv\")"
   ]
  },
  {
   "cell_type": "code",
   "execution_count": 3,
   "metadata": {},
   "outputs": [
    {
     "data": {
      "text/plain": [
       "(180, 103)"
      ]
     },
     "execution_count": 3,
     "metadata": {},
     "output_type": "execute_result"
    }
   ],
   "source": [
    "train_data.shape"
   ]
  },
  {
   "cell_type": "markdown",
   "metadata": {},
   "source": [
    "# 2. Cross Validation on Training Data"
   ]
  },
  {
   "cell_type": "code",
   "execution_count": 6,
   "metadata": {},
   "outputs": [],
   "source": [
    "def split_data_index(data, K):\n",
    "    '''\n",
    "    This function is to split the data index for cross validation\n",
    "    '''\n",
    "    index_arr = data.index.values\n",
    "    shuffle_index_arr = copy.copy(index_arr)\n",
    "    \n",
    "    random.seed(222)\n",
    "    shuffle_index_arr = shuffle_index_arr.reshape(-1,K)\n",
    "    for arr in shuffle_index_arr:\n",
    "        random.shuffle(arr)\n",
    "    \n",
    "    cv_outer = []\n",
    "    for i in range(K):\n",
    "\n",
    "        test_index = shuffle_index_arr[:,i]\n",
    "        train_index = np.delete(shuffle_index_arr, i, axis=1).reshape(1,-1)[0]\n",
    "\n",
    "        cv_outer.append([train_index, test_index])\n",
    "    \n",
    "    return cv_outer"
   ]
  },
  {
   "cell_type": "code",
   "execution_count": 7,
   "metadata": {},
   "outputs": [],
   "source": [
    "def MAE(y, y_pred):\n",
    "    # y, y_pred are numpy.ndarray\n",
    "    mae = sum(abs(y-y_pred)) / len(y)\n",
    "    return mae"
   ]
  },
  {
   "cell_type": "code",
   "execution_count": 8,
   "metadata": {},
   "outputs": [],
   "source": [
    "def performance_eval(cv_outer, data):\n",
    "    \n",
    "    MAE_results = []\n",
    "    RMSE_results = []\n",
    "    MedAE_results = []\n",
    "    r2_results = []\n",
    "    model_params = []\n",
    "    \n",
    "    for train_index, test_index in cv_outer:\n",
    "        \n",
    "        X_train, y_train = data.iloc[train_index,6:].values, data.iloc[train_index,3].values\n",
    "        X_test, y_test = data.iloc[test_index,6:].values, data.iloc[test_index,3].values\n",
    "        \n",
    "        cv_inner = KFold(n_splits=3, shuffle=True, random_state=1)\n",
    "\n",
    "        model = GradientBoostingRegressor(random_state=222)\n",
    "        \n",
    "        params = {'n_estimators': np.arange(10,300,10),\n",
    "                  'max_depth': np.arange(1, 5, 1),\n",
    "                  'learning_rate': np.arange(0.005, 0.2, 0.001),   \n",
    "                    }\n",
    "\n",
    "        search = RandomizedSearchCV(model,params,cv=cv_inner,scoring='neg_mean_absolute_error',verbose=0,n_jobs=-1,n_iter=100,refit=False,\\\n",
    "                                   random_state=999)\n",
    "        search.fit(X_train, y_train)\n",
    "        \n",
    "        model_params.append(search.best_params_)\n",
    "    \n",
    "        model.set_params(**search.best_params_)\n",
    "        model.fit(X_train, y_train)\n",
    "        print(search.best_params_)\n",
    "        y_pred = model.predict(X_test)\n",
    "        \n",
    "        mae = MAE(y_test, y_pred)\n",
    "        MAE_results.append(mae)\n",
    "        \n",
    "        rmse = mean_squared_error(y_test,y_pred,squared=False)\n",
    "        RMSE_results.append(rmse)\n",
    "        \n",
    "        med = median_absolute_error(y_test, y_pred)\n",
    "        MedAE_results.append(med)\n",
    "        \n",
    "        r2 = r2_score(y_test, y_pred)\n",
    "        r2_results.append(r2)\n",
    "        \n",
    "    \n",
    "    return MAE_results, RMSE_results, MedAE_results, r2_results, model_params"
   ]
  },
  {
   "cell_type": "code",
   "execution_count": 9,
   "metadata": {
    "scrolled": true
   },
   "outputs": [
    {
     "name": "stdout",
     "output_type": "stream",
     "text": [
      "{'n_estimators': 210, 'max_depth': 2, 'learning_rate': 0.128}\n",
      "{'n_estimators': 170, 'max_depth': 2, 'learning_rate': 0.15}\n",
      "{'n_estimators': 210, 'max_depth': 2, 'learning_rate': 0.128}\n",
      "{'n_estimators': 210, 'max_depth': 2, 'learning_rate': 0.128}\n",
      "{'n_estimators': 210, 'max_depth': 2, 'learning_rate': 0.115}\n",
      "{'n_estimators': 270, 'max_depth': 2, 'learning_rate': 0.08600000000000001}\n",
      "{'n_estimators': 230, 'max_depth': 2, 'learning_rate': 0.116}\n",
      "{'n_estimators': 160, 'max_depth': 3, 'learning_rate': 0.18000000000000002}\n",
      "{'n_estimators': 220, 'max_depth': 2, 'learning_rate': 0.11800000000000001}\n",
      "{'n_estimators': 150, 'max_depth': 2, 'learning_rate': 0.097}\n"
     ]
    }
   ],
   "source": [
    "cv_outer = split_data_index(train_data, 10)\n",
    "MAE_results, RMSE_results, MedAE_results, r2_results, model_params = performance_eval(cv_outer, train_data)"
   ]
  },
  {
   "cell_type": "code",
   "execution_count": 1,
   "metadata": {},
   "outputs": [],
   "source": [
    "# MAE_results\n",
    "\n",
    "# np.mean(MAE_results)\n",
    "\n",
    "# RMSE_results\n",
    "\n",
    "# np.mean(RMSE_results)\n",
    "\n",
    "# np.mean(r2_results)\n",
    "\n",
    "# model_params"
   ]
  },
  {
   "cell_type": "markdown",
   "metadata": {},
   "source": [
    "# 3. Test on Validation Set"
   ]
  },
  {
   "cell_type": "code",
   "execution_count": 16,
   "metadata": {},
   "outputs": [],
   "source": [
    "X_train = train_data.iloc[:,6:].values\n",
    "y_train = train_data.iloc[:,3].values\n",
    "X_valid = valid_data.iloc[:,6:].values\n",
    "y_valid = valid_data.iloc[:,3].values"
   ]
  },
  {
   "cell_type": "code",
   "execution_count": 18,
   "metadata": {},
   "outputs": [],
   "source": [
    "def predict_validation(model_params, X_train, y_train, X_valid, y_valid):\n",
    "    \n",
    "    predictions = []\n",
    "    importances = []\n",
    "    permutation = []\n",
    "    \n",
    "    for param in model_params:\n",
    "        model = GradientBoostingRegressor(random_state=222)\n",
    "        model.set_params(**param)\n",
    "        model.fit(X_train, y_train)\n",
    "\n",
    "        y_pred = model.predict(X_valid)\n",
    "        predictions.append(y_pred)\n",
    "\n",
    "    y_hat = list(map(lambda x: sum(x)/len(x), np.array(predictions).T))\n",
    "\n",
    "    return y_hat"
   ]
  },
  {
   "cell_type": "code",
   "execution_count": 19,
   "metadata": {},
   "outputs": [],
   "source": [
    "y_hat = predict_validation(model_params, X_train, y_train, X_valid, y_valid)"
   ]
  },
  {
   "cell_type": "code",
   "execution_count": 20,
   "metadata": {},
   "outputs": [],
   "source": [
    "r2 = r2_score(y_valid, y_hat)"
   ]
  },
  {
   "cell_type": "code",
   "execution_count": 21,
   "metadata": {},
   "outputs": [
    {
     "data": {
      "text/plain": [
       "0.9920774585342907"
      ]
     },
     "execution_count": 21,
     "metadata": {},
     "output_type": "execute_result"
    }
   ],
   "source": [
    "r2"
   ]
  },
  {
   "cell_type": "code",
   "execution_count": 22,
   "metadata": {},
   "outputs": [
    {
     "data": {
      "text/plain": [
       "0.20607984825722017"
      ]
     },
     "execution_count": 22,
     "metadata": {},
     "output_type": "execute_result"
    }
   ],
   "source": [
    "mean_squared_error(y_valid, y_hat,squared=False)"
   ]
  },
  {
   "cell_type": "code",
   "execution_count": 23,
   "metadata": {},
   "outputs": [
    {
     "data": {
      "text/plain": [
       "0.1522491473734683"
      ]
     },
     "execution_count": 23,
     "metadata": {},
     "output_type": "execute_result"
    }
   ],
   "source": [
    "MAE(y_valid, y_hat)"
   ]
  },
  {
   "cell_type": "code",
   "execution_count": 24,
   "metadata": {},
   "outputs": [
    {
     "data": {
      "text/plain": [
       "0.10299220104309725"
      ]
     },
     "execution_count": 24,
     "metadata": {},
     "output_type": "execute_result"
    }
   ],
   "source": [
    "median_absolute_error(y_valid, y_hat)"
   ]
  },
  {
   "cell_type": "markdown",
   "metadata": {},
   "source": [
    "# 4. Plot y_true and y_pred"
   ]
  },
  {
   "cell_type": "code",
   "execution_count": 26,
   "metadata": {
    "scrolled": false
   },
   "outputs": [
    {
     "data": {
      "text/plain": [
       "Text(0, 0.5, 'Predicted Retention Time (min)')"
      ]
     },
     "execution_count": 26,
     "metadata": {},
     "output_type": "execute_result"
    },
    {
     "data": {
      "image/png": "[encoded data removed]",
      "text/plain": [
       "<Figure size 720x444.96 with 1 Axes>"
      ]
     },
     "metadata": {},
     "output_type": "display_data"
    }
   ],
   "source": [
    "fig, ax = plt.subplots(figsize=(10,6.18))\n",
    "fig.patch.set_facecolor('white')\n",
    "ax.grid(True, which='major', linestyle=':')\n",
    "ax.spines['left'].set_visible(False)\n",
    "ax.spines['right'].set_visible(False)\n",
    "ax.spines['top'].set_visible(False)\n",
    "\n",
    "ax.plot(y_valid, y_hat, 'o')\n",
    "ax.plot(y_valid, y_valid, '--', color='red', linewidth=2.5)\n",
    "# ax.legend()\n",
    "\n",
    "fig.suptitle(\"The predicted RT versus true RT in GB\", y=0.96, fontsize=14, fontweight='bold')\n",
    "ax.set_xlabel(\"True Retention Time (min)\", fontdict={'fontsize': 12})\n",
    "ax.set_ylabel(\"Predicted Retention Time (min)\", fontdict={'fontsize': 12})\n",
    "\n",
    "\n",
    "# fig.savefig(\"GB_validation_pred_true.png\", dpi=300)"
   ]
  },
  {
   "cell_type": "code",
   "execution_count": 27,
   "metadata": {
    "scrolled": true
   },
   "outputs": [],
   "source": [
    "pred_df = pd.DataFrame(y_hat)"
   ]
  },
  {
   "cell_type": "code",
   "execution_count": 28,
   "metadata": {},
   "outputs": [],
   "source": [
    "pred_df.columns = ['GB_pred']"
   ]
  },
  {
   "cell_type": "code",
   "execution_count": 29,
   "metadata": {},
   "outputs": [],
   "source": [
    "pred_df.to_csv(\"Combined_Validation_Predict_GB.csv\", index=False)"
   ]
  },
  {
   "cell_type": "code",
   "execution_count": null,
   "metadata": {},
   "outputs": [],
   "source": []
  }
 ],
 "metadata": {
  "kernelspec": {
   "display_name": "Python 3",
   "language": "python",
   "name": "python3"
  },
  "language_info": {
   "codemirror_mode": {
    "name": "ipython",
    "version": 3
   },
   "file_extension": ".py",
   "mimetype": "text/x-python",
   "name": "python",
   "nbconvert_exporter": "python",
   "pygments_lexer": "ipython3",
   "version": "3.7.9"
  }
 },
 "nbformat": 4,
 "nbformat_minor": 4
}
