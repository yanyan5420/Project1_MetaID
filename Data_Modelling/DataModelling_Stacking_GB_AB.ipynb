{
 "cells": [
  {
   "cell_type": "code",
   "execution_count": 1,
   "metadata": {},
   "outputs": [],
   "source": [
    "import pandas as pd\n",
    "import numpy as np\n",
    "import re\n",
    "import random\n",
    "from sklearn.model_selection import KFold\n",
    "from sklearn.preprocessing import StandardScaler\n",
    "import copy\n",
    "from sklearn.model_selection import cross_val_score, cross_val_predict, RandomizedSearchCV, StratifiedKFold, GridSearchCV\n",
    "from scipy.stats import uniform\n",
    "from sklearn.base import clone\n",
    "from sklearn.svm import SVR\n",
    "from sklearn.metrics import mean_squared_error\n",
    "from sklearn.metrics import median_absolute_error, mean_absolute_error\n",
    "from sklearn.metrics import r2_score\n",
    "from sklearn.preprocessing import scale\n",
    "import matplotlib.pyplot as plt\n",
    "from scipy.optimize import curve_fit\n",
    "from sklearn.ensemble import StackingRegressor\n",
    "from sklearn.linear_model import LinearRegression, LogisticRegression, Lasso\n",
    "from sklearn.ensemble import GradientBoostingRegressor, RandomForestRegressor, AdaBoostRegressor\n",
    "from random import randint\n",
    "from xgboost import XGBRegressor\n",
    "from sklearn.preprocessing import MinMaxScaler"
   ]
  },
  {
   "cell_type": "markdown",
   "metadata": {},
   "source": [
    "# 1. Import Data"
   ]
  },
  {
   "cell_type": "code",
   "execution_count": 2,
   "metadata": {},
   "outputs": [],
   "source": [
    "train_data = pd.read_csv(\"combined_train_with_features.csv\")\n",
    "valid_data = pd.read_csv(\"combined_valid_with_features.csv\")"
   ]
  },
  {
   "cell_type": "code",
   "execution_count": 3,
   "metadata": {},
   "outputs": [
    {
     "data": {
      "text/plain": [
       "(180, 103)"
      ]
     },
     "execution_count": 3,
     "metadata": {},
     "output_type": "execute_result"
    }
   ],
   "source": [
    "train_data.shape"
   ]
  },
  {
   "cell_type": "markdown",
   "metadata": {},
   "source": [
    "# 2. Fit Base Models (GB and AB) respectively"
   ]
  },
  {
   "cell_type": "code",
   "execution_count": 7,
   "metadata": {},
   "outputs": [],
   "source": [
    "def split_data_index(data, K):\n",
    "    \n",
    "    index_arr = data.index.values\n",
    "    shuffle_index_arr = copy.copy(index_arr)\n",
    "    \n",
    "    random.seed(222)\n",
    "    shuffle_index_arr = shuffle_index_arr.reshape(-1,K)\n",
    "    for arr in shuffle_index_arr:\n",
    "        random.shuffle(arr)\n",
    "    \n",
    "    cv_outer = []\n",
    "    for i in range(K):\n",
    "\n",
    "        test_index = shuffle_index_arr[:,i]\n",
    "        train_index = np.delete(shuffle_index_arr, i, axis=1).reshape(1,-1)[0]\n",
    "\n",
    "        cv_outer.append([train_index, test_index])\n",
    "    \n",
    "    return cv_outer"
   ]
  },
  {
   "cell_type": "code",
   "execution_count": 8,
   "metadata": {},
   "outputs": [],
   "source": [
    "def GB_random_search(X_train, y_train):\n",
    "    \n",
    "    model = GradientBoostingRegressor(random_state=222)\n",
    "    \n",
    "    params = {'n_estimators': np.arange(10,300,10),\n",
    "                  'max_depth': np.arange(1, 5, 1),\n",
    "                  'learning_rate': np.arange(0.005, 0.2, 0.001),   \n",
    "                    }\n",
    "    \n",
    "    cv_inner = KFold(n_splits=3, shuffle=True, random_state=1)\n",
    "    search = RandomizedSearchCV(model,params,cv=cv_inner,scoring='neg_mean_absolute_error',verbose=0,n_jobs=-1,n_iter=100,refit=False,\\\n",
    "                               random_state=999)\n",
    "    search.fit(X_train, y_train)\n",
    "\n",
    "    model.set_params(**search.best_params_)\n",
    "    print(search.best_params_)\n",
    "    \n",
    "    return model"
   ]
  },
  {
   "cell_type": "code",
   "execution_count": 9,
   "metadata": {},
   "outputs": [],
   "source": [
    "def AB_random_search(X_train, y_train):\n",
    "\n",
    "    model = AdaBoostRegressor(random_state=0)\n",
    "        \n",
    "    params = {'n_estimators': np.arange(10,500,10),\n",
    "              'learning_rate': np.arange(0.005, 0.5, 0.001),\n",
    "             }\n",
    "    \n",
    "    cv_inner = KFold(n_splits=3, shuffle=True, random_state=1)\n",
    "    search = RandomizedSearchCV(model,params,cv=cv_inner,scoring='neg_mean_absolute_error',verbose=0,n_jobs=-1,n_iter=100,refit=False,\\\n",
    "                               random_state=999)\n",
    "    search.fit(X_train, y_train)\n",
    "\n",
    "    model.set_params(**search.best_params_)\n",
    "    print(search.best_params_)\n",
    "    \n",
    "    return model"
   ]
  },
  {
   "cell_type": "code",
   "execution_count": 12,
   "metadata": {},
   "outputs": [],
   "source": [
    "def get_out_of_fold_predictions(data, K):\n",
    "    \n",
    "    scaled_data = scale_data(data)\n",
    "    \n",
    "    meta_X = []\n",
    "    meta_y = []\n",
    "    \n",
    "    GB_models = []\n",
    "    AB_models = []\n",
    "    \n",
    "    gb_pred = []\n",
    "    ab_pred = []\n",
    "    \n",
    "    cv_outer = split_data_index(data, K)\n",
    "    \n",
    "    for train_index, test_index in cv_outer:\n",
    "        X_train, y_train = data.iloc[train_index,6:].values, data.iloc[train_index,3].values\n",
    "        X_test, y_test = data.iloc[test_index,6:].values, data.iloc[test_index,3].values\n",
    "        \n",
    "        meta_y.append(y_test)\n",
    "        \n",
    "        model_2 = GB_random_search(X_train, y_train)\n",
    "        gb = clone(model_2)\n",
    "        GB_models.append(gb)\n",
    "        model_2.fit(X_train, y_train)\n",
    "        hat_2 = model_2.predict(X_test)\n",
    "        gb_pred.append(hat_2)\n",
    "        \n",
    "        model_3 = AB_random_search(X_train, y_train)\n",
    "        rf = clone(model_3)\n",
    "        AB_models.append(rf)\n",
    "        model_3.fit(X_train, y_train)\n",
    "        hat_3 = model_3.predict(X_test)\n",
    "        ab_pred.append(hat_3)\n",
    "    \n",
    "    meta_X.append(np.hstack(gb_pred))\n",
    "    meta_X.append(np.hstack(ab_pred))\n",
    "    meta_X = np.vstack(meta_X).T\n",
    "    \n",
    "    meta_y = np.hstack(meta_y)\n",
    "    \n",
    "    return meta_X, meta_y, GB_models, AB_models"
   ]
  },
  {
   "cell_type": "code",
   "execution_count": 13,
   "metadata": {
    "scrolled": true
   },
   "outputs": [
    {
     "name": "stdout",
     "output_type": "stream",
     "text": [
      "{'n_estimators': 210, 'max_depth': 2, 'learning_rate': 0.128}\n",
      "{'n_estimators': 200, 'learning_rate': 0.442}\n",
      "{'n_estimators': 170, 'max_depth': 2, 'learning_rate': 0.15}\n",
      "{'n_estimators': 440, 'learning_rate': 0.47300000000000003}\n",
      "{'n_estimators': 210, 'max_depth': 2, 'learning_rate': 0.128}\n",
      "{'n_estimators': 400, 'learning_rate': 0.341}\n",
      "{'n_estimators': 210, 'max_depth': 2, 'learning_rate': 0.128}\n",
      "{'n_estimators': 280, 'learning_rate': 0.26}\n",
      "{'n_estimators': 210, 'max_depth': 2, 'learning_rate': 0.115}\n",
      "{'n_estimators': 340, 'learning_rate': 0.223}\n",
      "{'n_estimators': 270, 'max_depth': 2, 'learning_rate': 0.08600000000000001}\n",
      "{'n_estimators': 400, 'learning_rate': 0.31}\n",
      "{'n_estimators': 230, 'max_depth': 2, 'learning_rate': 0.116}\n",
      "{'n_estimators': 350, 'learning_rate': 0.456}\n",
      "{'n_estimators': 160, 'max_depth': 3, 'learning_rate': 0.18000000000000002}\n",
      "{'n_estimators': 270, 'learning_rate': 0.34500000000000003}\n",
      "{'n_estimators': 220, 'max_depth': 2, 'learning_rate': 0.11800000000000001}\n",
      "{'n_estimators': 490, 'learning_rate': 0.464}\n",
      "{'n_estimators': 150, 'max_depth': 2, 'learning_rate': 0.097}\n",
      "{'n_estimators': 320, 'learning_rate': 0.331}\n"
     ]
    }
   ],
   "source": [
    "meta_X, meta_y, GB_models, AB_models = get_out_of_fold_predictions(train_data, 10)"
   ]
  },
  {
   "cell_type": "code",
   "execution_count": 14,
   "metadata": {},
   "outputs": [],
   "source": [
    "def fit_base_models(X, y, GB_models, AB_models):\n",
    "    \n",
    "    base_models = []\n",
    "    \n",
    "    model_2 = []\n",
    "    for gm in GB_models:\n",
    "        gm.fit(X, y)\n",
    "        model_2.append(gm)\n",
    "    base_models.append(model_2)\n",
    "    \n",
    "    model_3 = []\n",
    "    for rf in AB_models:\n",
    "        rf.fit(X, y)\n",
    "        model_3.append(rf)\n",
    "    base_models.append(model_3)\n",
    "    \n",
    "    return base_models"
   ]
  },
  {
   "cell_type": "markdown",
   "metadata": {},
   "source": [
    "# 3. Fit the Meta Model"
   ]
  },
  {
   "cell_type": "code",
   "execution_count": 15,
   "metadata": {},
   "outputs": [],
   "source": [
    "# fit a meta model\n",
    "def fit_meta_model(meta_X, meta_y):\n",
    "    model = LinearRegression()\n",
    "    model.fit(meta_X, meta_y)\n",
    "    return model"
   ]
  },
  {
   "cell_type": "code",
   "execution_count": 16,
   "metadata": {},
   "outputs": [],
   "source": [
    "meta_model = fit_meta_model(meta_X, meta_y)"
   ]
  },
  {
   "cell_type": "markdown",
   "metadata": {},
   "source": [
    "# 4. Predict the validation dataset"
   ]
  },
  {
   "cell_type": "code",
   "execution_count": 18,
   "metadata": {},
   "outputs": [],
   "source": [
    "X_train = train_data.iloc[:,6:].values\n",
    "y_train = train_data.iloc[:,3].values\n",
    "X_valid = valid_data.iloc[:,6:].values\n",
    "y_valid = valid_data.iloc[:,3].values"
   ]
  },
  {
   "cell_type": "code",
   "execution_count": 21,
   "metadata": {},
   "outputs": [],
   "source": [
    "def validation_predictions(X_train, y_train, X_valid, GB_models, AB_models, meta_model):\n",
    "    \n",
    "    meta_X = []\n",
    "    \n",
    "    base_models = fit_base_models(X_train, y_train, GB_models, AB_models)\n",
    "    \n",
    "    \n",
    "    for i, models in enumerate(base_models):\n",
    "        \n",
    "        if i == 0:\n",
    "            preds = []\n",
    "            for model in models:\n",
    "                preds.append(model.predict(X_valid))\n",
    "            y_hat = np.array(list(map(lambda x: sum(x)/len(x), np.array(preds).T)))\n",
    "        \n",
    "        elif i == 1:\n",
    "            preds = []\n",
    "            for model in models:\n",
    "                preds.append(model.predict(X_valid))\n",
    "            y_hat = np.array(list(map(lambda x: sum(x)/len(x), np.array(preds).T)))\n",
    "\n",
    "        \n",
    "        meta_X.append(y_hat.reshape(-1,1))\n",
    "    \n",
    "    meta_X = np.hstack(meta_X)\n",
    "    predict = meta_model.predict(meta_X)\n",
    "    \n",
    "    return predict"
   ]
  },
  {
   "cell_type": "code",
   "execution_count": 22,
   "metadata": {},
   "outputs": [],
   "source": [
    "y_hat = validation_predictions(X_train, y_train, X_valid, GB_models, AB_models, meta_model)"
   ]
  },
  {
   "cell_type": "code",
   "execution_count": 23,
   "metadata": {},
   "outputs": [],
   "source": [
    "r2 = r2_score(y_valid, y_hat)"
   ]
  },
  {
   "cell_type": "code",
   "execution_count": 24,
   "metadata": {},
   "outputs": [
    {
     "data": {
      "text/plain": [
       "0.9928110052036597"
      ]
     },
     "execution_count": 24,
     "metadata": {},
     "output_type": "execute_result"
    }
   ],
   "source": [
    "r2"
   ]
  },
  {
   "cell_type": "code",
   "execution_count": 25,
   "metadata": {},
   "outputs": [
    {
     "data": {
      "text/plain": [
       "0.19630770691738259"
      ]
     },
     "execution_count": 25,
     "metadata": {},
     "output_type": "execute_result"
    }
   ],
   "source": [
    "mean_squared_error(y_valid, y_hat,squared=False)"
   ]
  },
  {
   "cell_type": "code",
   "execution_count": 26,
   "metadata": {},
   "outputs": [
    {
     "data": {
      "text/plain": [
       "0.14267570058213408"
      ]
     },
     "execution_count": 26,
     "metadata": {},
     "output_type": "execute_result"
    }
   ],
   "source": [
    "mean_absolute_error(y_valid, y_hat)"
   ]
  },
  {
   "cell_type": "code",
   "execution_count": 27,
   "metadata": {},
   "outputs": [
    {
     "data": {
      "text/plain": [
       "0.09535313895215847"
      ]
     },
     "execution_count": 27,
     "metadata": {},
     "output_type": "execute_result"
    }
   ],
   "source": [
    "median_absolute_error(y_valid, y_hat)"
   ]
  },
  {
   "cell_type": "markdown",
   "metadata": {},
   "source": [
    "# 5. Plot y_true and y_predict"
   ]
  },
  {
   "cell_type": "code",
   "execution_count": 28,
   "metadata": {},
   "outputs": [
    {
     "data": {
      "text/plain": [
       "Text(0, 0.5, 'Predicted Retention Time (min)')"
      ]
     },
     "execution_count": 28,
     "metadata": {},
     "output_type": "execute_result"
    },
    {
     "data": {
      "image/png": "[encoded data removed]",
      "text/plain": [
       "<Figure size 720x444.96 with 1 Axes>"
      ]
     },
     "metadata": {},
     "output_type": "display_data"
    }
   ],
   "source": [
    "fig, ax = plt.subplots(figsize=(10,6.18))\n",
    "fig.patch.set_facecolor('white')\n",
    "ax.grid(True, which='major', linestyle=':')\n",
    "ax.spines['left'].set_visible(False)\n",
    "ax.spines['right'].set_visible(False)\n",
    "ax.spines['top'].set_visible(False)\n",
    "\n",
    "ax.plot(y_valid, y_hat, 'o')\n",
    "ax.plot(y_valid, y_valid, '--', color='red', linewidth=2.5)\n",
    "# ax.legend()\n",
    "\n",
    "fig.suptitle(\"The predicted RT versus true RT in StackingRegression\", y=0.96, fontsize=14, fontweight='bold')\n",
    "ax.set_xlabel(\"True Retention Time (min)\", fontdict={'fontsize': 12})\n",
    "ax.set_ylabel(\"Predicted Retention Time (min)\", fontdict={'fontsize': 12})\n",
    "\n",
    "\n",
    "# fig.savefig(\"Stacking_validation_pred_true.png\", dpi=300)"
   ]
  },
  {
   "cell_type": "code",
   "execution_count": 126,
   "metadata": {},
   "outputs": [],
   "source": [
    "pred_df = pd.DataFrame(y_hat)"
   ]
  },
  {
   "cell_type": "code",
   "execution_count": 127,
   "metadata": {
    "scrolled": true
   },
   "outputs": [],
   "source": [
    "pred_df.columns = ['Stacking_pred']"
   ]
  },
  {
   "cell_type": "code",
   "execution_count": 128,
   "metadata": {},
   "outputs": [
    {
     "data": {
      "text/html": [
       "<div>\n",
       "<style scoped>\n",
       "    .dataframe tbody tr th:only-of-type {\n",
       "        vertical-align: middle;\n",
       "    }\n",
       "\n",
       "    .dataframe tbody tr th {\n",
       "        vertical-align: top;\n",
       "    }\n",
       "\n",
       "    .dataframe thead th {\n",
       "        text-align: right;\n",
       "    }\n",
       "</style>\n",
       "<table border=\"1\" class=\"dataframe\">\n",
       "  <thead>\n",
       "    <tr style=\"text-align: right;\">\n",
       "      <th></th>\n",
       "      <th>Stacking_pred</th>\n",
       "    </tr>\n",
       "  </thead>\n",
       "  <tbody>\n",
       "    <tr>\n",
       "      <th>0</th>\n",
       "      <td>1.140361</td>\n",
       "    </tr>\n",
       "    <tr>\n",
       "      <th>1</th>\n",
       "      <td>1.336502</td>\n",
       "    </tr>\n",
       "    <tr>\n",
       "      <th>2</th>\n",
       "      <td>2.021183</td>\n",
       "    </tr>\n",
       "    <tr>\n",
       "      <th>3</th>\n",
       "      <td>1.629546</td>\n",
       "    </tr>\n",
       "    <tr>\n",
       "      <th>4</th>\n",
       "      <td>1.640292</td>\n",
       "    </tr>\n",
       "  </tbody>\n",
       "</table>\n",
       "</div>"
      ],
      "text/plain": [
       "   Stacking_pred\n",
       "0       1.140361\n",
       "1       1.336502\n",
       "2       2.021183\n",
       "3       1.629546\n",
       "4       1.640292"
      ]
     },
     "execution_count": 128,
     "metadata": {},
     "output_type": "execute_result"
    }
   ],
   "source": [
    "pred_df.head()"
   ]
  },
  {
   "cell_type": "code",
   "execution_count": 129,
   "metadata": {},
   "outputs": [],
   "source": [
    "pred_df.to_csv(\"Combined_Validation_Predict_Stacking.csv\", index=False)"
   ]
  },
  {
   "cell_type": "code",
   "execution_count": null,
   "metadata": {},
   "outputs": [],
   "source": []
  }
 ],
 "metadata": {
  "kernelspec": {
   "display_name": "Python 3",
   "language": "python",
   "name": "python3"
  },
  "language_info": {
   "codemirror_mode": {
    "name": "ipython",
    "version": 3
   },
   "file_extension": ".py",
   "mimetype": "text/x-python",
   "name": "python",
   "nbconvert_exporter": "python",
   "pygments_lexer": "ipython3",
   "version": "3.7.9"
  }
 },
 "nbformat": 4,
 "nbformat_minor": 4
}
