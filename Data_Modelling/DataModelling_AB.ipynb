{
 "cells": [
  {
   "cell_type": "code",
   "execution_count": 67,
   "metadata": {},
   "outputs": [],
   "source": [
    "import pandas as pd\n",
    "import numpy as np\n",
    "import re\n",
    "import random\n",
    "from sklearn.model_selection import KFold\n",
    "from sklearn.preprocessing import StandardScaler\n",
    "import copy\n",
    "from sklearn.model_selection import cross_val_score, cross_val_predict, RandomizedSearchCV, StratifiedKFold, GridSearchCV\n",
    "from scipy.stats import uniform\n",
    "from sklearn.base import clone\n",
    "from sklearn.svm import SVR\n",
    "from sklearn.metrics import mean_squared_error\n",
    "from sklearn.metrics import median_absolute_error,mean_absolute_error\n",
    "from sklearn.metrics import r2_score\n",
    "from sklearn.preprocessing import scale\n",
    "import matplotlib.pyplot as plt\n",
    "from scipy.optimize import curve_fit\n",
    "from sklearn.ensemble import GradientBoostingRegressor, RandomForestRegressor, AdaBoostRegressor\n",
    "from random import randint\n",
    "from sklearn.preprocessing import MinMaxScaler\n",
    "from sklearn.linear_model import LinearRegression, LogisticRegression, Lasso\n",
    "from sklearn.neural_network import MLPRegressor\n",
    "# from xgboost import XGBRegressor"
   ]
  },
  {
   "cell_type": "markdown",
   "metadata": {},
   "source": [
    "# 1. Import Data"
   ]
  },
  {
   "cell_type": "code",
   "execution_count": 68,
   "metadata": {},
   "outputs": [],
   "source": [
    "train_data = pd.read_csv(\"combined_train_with_features.csv\")\n",
    "valid_data = pd.read_csv(\"combined_valid_with_features.csv\")"
   ]
  },
  {
   "cell_type": "code",
   "execution_count": 69,
   "metadata": {},
   "outputs": [
    {
     "data": {
      "text/plain": [
       "(180, 103)"
      ]
     },
     "execution_count": 69,
     "metadata": {},
     "output_type": "execute_result"
    }
   ],
   "source": [
    "train_data.shape"
   ]
  },
  {
   "cell_type": "markdown",
   "metadata": {},
   "source": [
    "# 2. Cross Validation on Training Set"
   ]
  },
  {
   "cell_type": "code",
   "execution_count": 72,
   "metadata": {},
   "outputs": [],
   "source": [
    "def split_data_index(data, K):\n",
    "    \n",
    "    index_arr = data.index.values\n",
    "    shuffle_index_arr = copy.copy(index_arr)\n",
    "\n",
    "    random.seed(222)\n",
    "    shuffle_index_arr = shuffle_index_arr.reshape(-1,K)\n",
    "    for arr in shuffle_index_arr:\n",
    "        random.shuffle(arr)\n",
    "    \n",
    "    cv_outer = []\n",
    "    for i in range(K):\n",
    "\n",
    "        test_index = shuffle_index_arr[:,i]\n",
    "        train_index = np.delete(shuffle_index_arr, i, axis=1).reshape(1,-1)[0]\n",
    "\n",
    "        cv_outer.append([train_index, test_index])\n",
    "    \n",
    "    return cv_outer"
   ]
  },
  {
   "cell_type": "code",
   "execution_count": 73,
   "metadata": {},
   "outputs": [],
   "source": [
    "def MAE(y, y_pred):\n",
    "    # y, y_pred are numpy.ndarray\n",
    "    mae = sum(abs(y-y_pred)) / len(y)\n",
    "    return mae"
   ]
  },
  {
   "cell_type": "code",
   "execution_count": 99,
   "metadata": {},
   "outputs": [],
   "source": [
    "def performance_eval(cv_outer, data):\n",
    "    \n",
    "    MAE_results = []\n",
    "    RMSE_results = []\n",
    "    MedAE_results = []\n",
    "    r2_results = []\n",
    "    model_params = []\n",
    "    \n",
    "    for train_index, test_index in cv_outer:\n",
    "        \n",
    "        X_train, y_train = data.iloc[train_index,6:].values, data.iloc[train_index,3].values\n",
    "        X_test, y_test = data.iloc[test_index,6:].values, data.iloc[test_index,3].values\n",
    "        \n",
    "        cv_inner = KFold(n_splits=3, shuffle=True, random_state=1)\n",
    "\n",
    "        model = AdaBoostRegressor(random_state=0)\n",
    "\n",
    "        params = {'n_estimators': np.arange(10,500,10),\n",
    "                  'learning_rate': np.arange(0.005, 0.5, 0.001),\n",
    "                 }\n",
    "\n",
    "        search = RandomizedSearchCV(model,params,cv=cv_inner,scoring='neg_mean_absolute_error',verbose=0,n_jobs=-1,n_iter=100,refit=False,\\\n",
    "                                   random_state=999)\n",
    "        search.fit(X_train, y_train)\n",
    "        \n",
    "        model_params.append(search.best_params_)\n",
    "    \n",
    "        model.set_params(**search.best_params_)\n",
    "        model.fit(X_train, y_train)\n",
    "        print(search.best_params_)\n",
    "        y_pred = model.predict(X_test)\n",
    "        \n",
    "        mae = MAE(y_test, y_pred)\n",
    "        MAE_results.append(mae)\n",
    "        \n",
    "        rmse = mean_squared_error(y_test,y_pred,squared=False)\n",
    "        RMSE_results.append(rmse)\n",
    "        \n",
    "        med = median_absolute_error(y_test, y_pred)\n",
    "        MedAE_results.append(med)\n",
    "        \n",
    "        r2 = r2_score(y_test, y_pred)\n",
    "        r2_results.append(r2)\n",
    "        \n",
    "    \n",
    "    return MAE_results, RMSE_results, MedAE_results, r2_results, model_params"
   ]
  },
  {
   "cell_type": "code",
   "execution_count": 101,
   "metadata": {
    "scrolled": true
   },
   "outputs": [
    {
     "name": "stdout",
     "output_type": "stream",
     "text": [
      "{'n_estimators': 200, 'learning_rate': 0.442}\n",
      "{'n_estimators': 440, 'learning_rate': 0.47300000000000003}\n",
      "{'n_estimators': 400, 'learning_rate': 0.341}\n",
      "{'n_estimators': 280, 'learning_rate': 0.26}\n",
      "{'n_estimators': 340, 'learning_rate': 0.223}\n",
      "{'n_estimators': 400, 'learning_rate': 0.31}\n",
      "{'n_estimators': 350, 'learning_rate': 0.456}\n",
      "{'n_estimators': 270, 'learning_rate': 0.34500000000000003}\n",
      "{'n_estimators': 490, 'learning_rate': 0.464}\n",
      "{'n_estimators': 320, 'learning_rate': 0.331}\n"
     ]
    }
   ],
   "source": [
    "cv_outer = split_data_index(train_data, 10)\n",
    "MAE_results, RMSE_results, MedAE_results, r2_results, model_params = performance_eval(cv_outer, train_data)"
   ]
  },
  {
   "cell_type": "code",
   "execution_count": 2,
   "metadata": {},
   "outputs": [],
   "source": [
    "# MAE_results\n",
    "\n",
    "# np.mean(MAE_results)\n",
    "\n",
    "# RMSE_results\n",
    "\n",
    "# np.mean(RMSE_results)\n",
    "\n",
    "# np.mean(r2_results)\n",
    "\n",
    "# model_params"
   ]
  },
  {
   "cell_type": "markdown",
   "metadata": {},
   "source": [
    "# 3. Test on Validation Set"
   ]
  },
  {
   "cell_type": "code",
   "execution_count": 108,
   "metadata": {},
   "outputs": [],
   "source": [
    "X_train = train_data.iloc[:,6:].values\n",
    "y_train = train_data.iloc[:,3].values\n",
    "X_valid = valid_data.iloc[:,6:].values\n",
    "y_valid = valid_data.iloc[:,3].values"
   ]
  },
  {
   "cell_type": "code",
   "execution_count": 110,
   "metadata": {},
   "outputs": [],
   "source": [
    "def predict_validation(model_params, X_train, y_train, X_valid, y_valid):\n",
    "    \n",
    "    predictions = []\n",
    "    \n",
    "    for param in model_params:\n",
    "        model = AdaBoostRegressor(random_state=0)\n",
    "        model.set_params(**param)\n",
    "        model.fit(X_train, y_train)\n",
    "\n",
    "        y_pred = model.predict(X_valid)\n",
    "        predictions.append(y_pred)\n",
    "\n",
    "    y_hat = list(map(lambda x: sum(x)/len(x), np.array(predictions).T))\n",
    "\n",
    "    return y_hat"
   ]
  },
  {
   "cell_type": "code",
   "execution_count": 111,
   "metadata": {},
   "outputs": [],
   "source": [
    "y_hat = predict_validation(model_params, X_train, y_train, X_valid, y_valid)"
   ]
  },
  {
   "cell_type": "code",
   "execution_count": 112,
   "metadata": {},
   "outputs": [],
   "source": [
    "r2 = r2_score(y_valid, y_hat)"
   ]
  },
  {
   "cell_type": "code",
   "execution_count": 113,
   "metadata": {},
   "outputs": [
    {
     "data": {
      "text/plain": [
       "0.962249417212127"
      ]
     },
     "execution_count": 113,
     "metadata": {},
     "output_type": "execute_result"
    }
   ],
   "source": [
    "r2"
   ]
  },
  {
   "cell_type": "code",
   "execution_count": 114,
   "metadata": {},
   "outputs": [
    {
     "data": {
      "text/plain": [
       "0.4498472767569131"
      ]
     },
     "execution_count": 114,
     "metadata": {},
     "output_type": "execute_result"
    }
   ],
   "source": [
    "mean_squared_error(y_valid, y_hat,squared=False)"
   ]
  },
  {
   "cell_type": "code",
   "execution_count": 115,
   "metadata": {},
   "outputs": [
    {
     "data": {
      "text/plain": [
       "0.3704094878622575"
      ]
     },
     "execution_count": 115,
     "metadata": {},
     "output_type": "execute_result"
    }
   ],
   "source": [
    "MAE(y_valid, y_hat)"
   ]
  },
  {
   "cell_type": "code",
   "execution_count": 116,
   "metadata": {},
   "outputs": [
    {
     "data": {
      "text/plain": [
       "0.2994956433242004"
      ]
     },
     "execution_count": 116,
     "metadata": {},
     "output_type": "execute_result"
    }
   ],
   "source": [
    "median_absolute_error(y_valid, y_hat)"
   ]
  },
  {
   "cell_type": "markdown",
   "metadata": {},
   "source": [
    "# 4. Plot y_true and y_pred"
   ]
  },
  {
   "cell_type": "code",
   "execution_count": 120,
   "metadata": {
    "scrolled": false
   },
   "outputs": [
    {
     "data": {
      "text/plain": [
       "Text(0, 0.5, 'Predicted Retention Time (min)')"
      ]
     },
     "execution_count": 120,
     "metadata": {},
     "output_type": "execute_result"
    },
    {
     "data": {
      "image/png": "[encoded data removed]",
      "text/plain": [
       "<Figure size 720x444.96 with 1 Axes>"
      ]
     },
     "metadata": {},
     "output_type": "display_data"
    }
   ],
   "source": [
    "fig, ax = plt.subplots(figsize=(10,6.18))\n",
    "fig.patch.set_facecolor('white')\n",
    "ax.grid(True, which='major', linestyle=':')\n",
    "ax.spines['left'].set_visible(False)\n",
    "ax.spines['right'].set_visible(False)\n",
    "ax.spines['top'].set_visible(False)\n",
    "\n",
    "ax.plot(y_valid, y_hat, 'o')\n",
    "ax.plot(y_valid, y_valid, '--', color='red', linewidth=2.5)\n",
    "# ax.legend()\n",
    "\n",
    "fig.suptitle(\"The predicted RT versus true RT in GB\", y=0.96, fontsize=14, fontweight='bold')\n",
    "ax.set_xlabel(\"True Retention Time (min)\", fontdict={'fontsize': 12})\n",
    "ax.set_ylabel(\"Predicted Retention Time (min)\", fontdict={'fontsize': 12})\n",
    "\n",
    "\n",
    "# fig.savefig(\"GB_validation_pred_true.png\", dpi=300)"
   ]
  },
  {
   "cell_type": "code",
   "execution_count": 123,
   "metadata": {
    "scrolled": true
   },
   "outputs": [],
   "source": [
    "pred_df = pd.DataFrame(y_hat)"
   ]
  },
  {
   "cell_type": "code",
   "execution_count": 122,
   "metadata": {},
   "outputs": [],
   "source": [
    "pred_df.columns = ['AB_pred']"
   ]
  },
  {
   "cell_type": "code",
   "execution_count": 124,
   "metadata": {},
   "outputs": [],
   "source": [
    "pred_df.to_csv(\"Combined_Validation_Predict_AB.csv\", index=False)"
   ]
  },
  {
   "cell_type": "code",
   "execution_count": null,
   "metadata": {},
   "outputs": [],
   "source": []
  }
 ],
 "metadata": {
  "kernelspec": {
   "display_name": "Python 3",
   "language": "python",
   "name": "python3"
  },
  "language_info": {
   "codemirror_mode": {
    "name": "ipython",
    "version": 3
   },
   "file_extension": ".py",
   "mimetype": "text/x-python",
   "name": "python",
   "nbconvert_exporter": "python",
   "pygments_lexer": "ipython3",
   "version": "3.7.9"
  }
 },
 "nbformat": 4,
 "nbformat_minor": 4
}
