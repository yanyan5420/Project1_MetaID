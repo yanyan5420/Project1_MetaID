{
 "cells": [
  {
   "cell_type": "code",
   "execution_count": 1,
   "metadata": {},
   "outputs": [],
   "source": [
    "import pandas as pd\n",
    "import numpy as np\n",
    "import re\n",
    "import random\n",
    "from sklearn.model_selection import KFold\n",
    "from sklearn.preprocessing import StandardScaler\n",
    "import copy\n",
    "from sklearn.model_selection import cross_val_score, cross_val_predict, RandomizedSearchCV, StratifiedKFold, GridSearchCV\n",
    "from scipy.stats import uniform\n",
    "from sklearn.base import clone\n",
    "from sklearn.svm import SVR\n",
    "from sklearn.metrics import mean_squared_error\n",
    "from sklearn.metrics import median_absolute_error, mean_absolute_error\n",
    "from sklearn.metrics import r2_score\n",
    "from sklearn.preprocessing import scale\n",
    "import matplotlib.pyplot as plt\n",
    "from scipy.optimize import curve_fit\n",
    "from sklearn.preprocessing import MinMaxScaler, maxabs_scale"
   ]
  },
  {
   "cell_type": "markdown",
   "metadata": {},
   "source": [
    "# 1. Import Data"
   ]
  },
  {
   "cell_type": "code",
   "execution_count": 2,
   "metadata": {},
   "outputs": [],
   "source": [
    "train_data = pd.read_csv(\"combined_train_with_features.csv\")\n",
    "valid_data = pd.read_csv(\"combined_valid_with_features.csv\")"
   ]
  },
  {
   "cell_type": "code",
   "execution_count": 3,
   "metadata": {},
   "outputs": [
    {
     "data": {
      "text/plain": [
       "(180, 103)"
      ]
     },
     "execution_count": 3,
     "metadata": {},
     "output_type": "execute_result"
    }
   ],
   "source": [
    "train_data.shape"
   ]
  },
  {
   "cell_type": "code",
   "execution_count": 4,
   "metadata": {},
   "outputs": [
    {
     "data": {
      "text/plain": [
       "(49, 103)"
      ]
     },
     "execution_count": 4,
     "metadata": {},
     "output_type": "execute_result"
    }
   ],
   "source": [
    "valid_data.shape"
   ]
  },
  {
   "cell_type": "markdown",
   "metadata": {},
   "source": [
    "# 2. Data Scaling"
   ]
  },
  {
   "cell_type": "code",
   "execution_count": 6,
   "metadata": {},
   "outputs": [],
   "source": [
    "def scale_data(data):\n",
    "    \n",
    "    scaler = MinMaxScaler()\n",
    "    data.iloc[:,6:] = scaler.fit_transform(data.iloc[:,6:])\n",
    "    \n",
    "    return data"
   ]
  },
  {
   "cell_type": "code",
   "execution_count": 9,
   "metadata": {},
   "outputs": [],
   "source": [
    "train_data = scale_data(train_data)\n",
    "valid_data = scale_data(valid_data)"
   ]
  },
  {
   "cell_type": "markdown",
   "metadata": {},
   "source": [
    "# 3. Cross Validation on training data"
   ]
  },
  {
   "cell_type": "code",
   "execution_count": 12,
   "metadata": {},
   "outputs": [],
   "source": [
    "def MAE(y, y_pred):\n",
    "    # y, y_pred are numpy.ndarray\n",
    "    mae = sum(abs(y-y_pred)) / len(y)\n",
    "    return mae"
   ]
  },
  {
   "cell_type": "code",
   "execution_count": 13,
   "metadata": {},
   "outputs": [],
   "source": [
    "def split_data_index(data, K):\n",
    "    \n",
    "    index_arr = data.index.values\n",
    "    shuffle_index_arr = copy.copy(index_arr)\n",
    "\n",
    "    random.seed(222)\n",
    "    shuffle_index_arr = shuffle_index_arr.reshape(-1,K)\n",
    "    for arr in shuffle_index_arr:\n",
    "        random.shuffle(arr)\n",
    "    \n",
    "    cv_outer = []\n",
    "    for i in range(K):\n",
    "\n",
    "        test_index = shuffle_index_arr[:,i]\n",
    "        train_index = np.delete(shuffle_index_arr, i, axis=1).reshape(1,-1)[0]\n",
    "\n",
    "        cv_outer.append([train_index, test_index])\n",
    "    \n",
    "    return cv_outer"
   ]
  },
  {
   "cell_type": "code",
   "execution_count": 14,
   "metadata": {},
   "outputs": [],
   "source": [
    "def performance_eval(cv_outer, data):\n",
    "    \n",
    "    MAE_results = []\n",
    "    RMSE_results = []\n",
    "    MedAE_results = []\n",
    "    r2_results = []\n",
    "    model_params = []\n",
    "    \n",
    "    for train_index, test_index in cv_outer:\n",
    "        \n",
    "        X_train, y_train = data.iloc[train_index,6:].values, data.iloc[train_index,3].values\n",
    "        X_test, y_test = data.iloc[test_index,6:].values, data.iloc[test_index,3].values\n",
    "        \n",
    "        cv_inner = KFold(n_splits=3, shuffle=True, random_state=1)\n",
    "        \n",
    "        model = SVR(kernel='rbf')\n",
    "  \n",
    "        params = {\n",
    "                   'C': np.arange(100, 250, 10),\n",
    "                    'epsilon': [0.0001, 0.001, 0.01],\n",
    "                   'gamma' : [0.005, 0.006, 0.007, 0.008, 0.009, 0.01]\n",
    "                    }\n",
    "\n",
    "        search = RandomizedSearchCV(model,params,cv=cv_inner,scoring='neg_mean_absolute_error',verbose=0,n_jobs=-1,n_iter=100,refit=False,\\\n",
    "                                   random_state=0)\n",
    "        search.fit(X_train, y_train)\n",
    "        \n",
    "        model_params.append(search.best_params_)\n",
    "    \n",
    "        model.set_params(**search.best_params_)\n",
    "        model.fit(X_train, y_train)\n",
    "        print(search.best_params_)\n",
    "        y_pred = model.predict(X_test)\n",
    "        \n",
    "        mae = MAE(y_test, y_pred)\n",
    "        MAE_results.append(mae)\n",
    "        \n",
    "        rmse = mean_squared_error(y_test,y_pred,squared=False)\n",
    "        RMSE_results.append(rmse)\n",
    "        \n",
    "        med = median_absolute_error(y_test, y_pred)\n",
    "        MedAE_results.append(med)\n",
    "        \n",
    "        r2 = r2_score(y_test, y_pred)\n",
    "        r2_results.append(r2)\n",
    "        \n",
    "    \n",
    "    return MAE_results, RMSE_results, MedAE_results, r2_results, model_params"
   ]
  },
  {
   "cell_type": "code",
   "execution_count": 15,
   "metadata": {
    "scrolled": true
   },
   "outputs": [
    {
     "name": "stdout",
     "output_type": "stream",
     "text": [
      "{'gamma': 0.01, 'epsilon': 0.001, 'C': 220}\n",
      "{'gamma': 0.01, 'epsilon': 0.001, 'C': 220}\n",
      "{'gamma': 0.01, 'epsilon': 0.001, 'C': 220}\n",
      "{'gamma': 0.01, 'epsilon': 0.01, 'C': 210}\n",
      "{'gamma': 0.01, 'epsilon': 0.001, 'C': 220}\n",
      "{'gamma': 0.01, 'epsilon': 0.001, 'C': 220}\n",
      "{'gamma': 0.01, 'epsilon': 0.001, 'C': 220}\n",
      "{'gamma': 0.01, 'epsilon': 0.01, 'C': 210}\n",
      "{'gamma': 0.01, 'epsilon': 0.001, 'C': 220}\n",
      "{'gamma': 0.01, 'epsilon': 0.001, 'C': 220}\n"
     ]
    }
   ],
   "source": [
    "cv_outer = split_data_index(train_data, 10)\n",
    "MAE_results, RMSE_results, MedAE_results, r2_results, model_params = performance_eval(cv_outer, train_data)"
   ]
  },
  {
   "cell_type": "code",
   "execution_count": 20,
   "metadata": {},
   "outputs": [
    {
     "data": {
      "text/plain": [
       "0.9779358441925983"
      ]
     },
     "execution_count": 20,
     "metadata": {},
     "output_type": "execute_result"
    }
   ],
   "source": [
    "# MAE_results\n",
    "\n",
    "# np.mean(MAE_results)\n",
    "\n",
    "# RMSE_results\n",
    "\n",
    "# np.mean(RMSE_results)\n",
    "\n",
    "# np.mean(r2_results)"
   ]
  },
  {
   "cell_type": "markdown",
   "metadata": {},
   "source": [
    "# 4. Test on validation set"
   ]
  },
  {
   "cell_type": "code",
   "execution_count": 22,
   "metadata": {},
   "outputs": [
    {
     "data": {
      "text/html": [
       "<div>\n",
       "<style scoped>\n",
       "    .dataframe tbody tr th:only-of-type {\n",
       "        vertical-align: middle;\n",
       "    }\n",
       "\n",
       "    .dataframe tbody tr th {\n",
       "        vertical-align: top;\n",
       "    }\n",
       "\n",
       "    .dataframe thead th {\n",
       "        text-align: right;\n",
       "    }\n",
       "</style>\n",
       "<table border=\"1\" class=\"dataframe\">\n",
       "  <thead>\n",
       "    <tr style=\"text-align: right;\">\n",
       "      <th></th>\n",
       "      <th>metabolite</th>\n",
       "      <th>adduct</th>\n",
       "      <th>mzmed</th>\n",
       "      <th>rtmed</th>\n",
       "      <th>database.accession.code</th>\n",
       "      <th>SMILES</th>\n",
       "      <th>MaxEStateIndex</th>\n",
       "      <th>MinAbsEStateIndex</th>\n",
       "      <th>qed</th>\n",
       "      <th>MinPartialCharge</th>\n",
       "      <th>...</th>\n",
       "      <th>fr_Ndealkylation1</th>\n",
       "      <th>fr_Ndealkylation2</th>\n",
       "      <th>fr_allylic_oxid</th>\n",
       "      <th>fr_amide</th>\n",
       "      <th>fr_aryl_methyl</th>\n",
       "      <th>fr_bicyclic</th>\n",
       "      <th>fr_ester</th>\n",
       "      <th>fr_ether</th>\n",
       "      <th>fr_phos_acid</th>\n",
       "      <th>fr_unbrch_alkane</th>\n",
       "    </tr>\n",
       "  </thead>\n",
       "  <tbody>\n",
       "    <tr>\n",
       "      <th>0</th>\n",
       "      <td>Acylcarnitine (12:0) - Dodecanoylcarnitine</td>\n",
       "      <td>[M+H]+</td>\n",
       "      <td>344.277684</td>\n",
       "      <td>0.901868</td>\n",
       "      <td>LMFA07070062</td>\n",
       "      <td>O(C(CCCCCCCCCCC)=O)[C@H](CC([O-])=O)C[N+](C)(C)C</td>\n",
       "      <td>0.647828</td>\n",
       "      <td>0.688651</td>\n",
       "      <td>0.518523</td>\n",
       "      <td>5.693446e-01</td>\n",
       "      <td>...</td>\n",
       "      <td>1.0</td>\n",
       "      <td>0.0</td>\n",
       "      <td>0.000000</td>\n",
       "      <td>0.0</td>\n",
       "      <td>0.0</td>\n",
       "      <td>0.0</td>\n",
       "      <td>0.333333</td>\n",
       "      <td>0.333333</td>\n",
       "      <td>0.0</td>\n",
       "      <td>0.250000</td>\n",
       "    </tr>\n",
       "    <tr>\n",
       "      <th>1</th>\n",
       "      <td>Lysophosphatidic acid LPA(18:2/0:0)</td>\n",
       "      <td>[M-H]-</td>\n",
       "      <td>433.234137</td>\n",
       "      <td>1.388567</td>\n",
       "      <td>LMGP10050017</td>\n",
       "      <td>[C@](COP(=O)(O)O)([H])(O)COC(CCCCCCC/C=C\\C/C=C...</td>\n",
       "      <td>0.522406</td>\n",
       "      <td>0.796962</td>\n",
       "      <td>0.212748</td>\n",
       "      <td>8.102200e-01</td>\n",
       "      <td>...</td>\n",
       "      <td>0.0</td>\n",
       "      <td>0.0</td>\n",
       "      <td>0.333333</td>\n",
       "      <td>0.0</td>\n",
       "      <td>0.0</td>\n",
       "      <td>0.0</td>\n",
       "      <td>0.333333</td>\n",
       "      <td>0.333333</td>\n",
       "      <td>1.0</td>\n",
       "      <td>0.250000</td>\n",
       "    </tr>\n",
       "    <tr>\n",
       "      <th>2</th>\n",
       "      <td>Lysophosphatidylcholine LPC(22:6/0:0)</td>\n",
       "      <td>[M+H]+</td>\n",
       "      <td>568.339800</td>\n",
       "      <td>1.620000</td>\n",
       "      <td>LMGP01050056</td>\n",
       "      <td>[C@](COP(=O)([O-])OCC[N+](C)(C)C)([H])(O)COC(C...</td>\n",
       "      <td>0.610732</td>\n",
       "      <td>0.069236</td>\n",
       "      <td>0.125675</td>\n",
       "      <td>5.761018e-07</td>\n",
       "      <td>...</td>\n",
       "      <td>1.0</td>\n",
       "      <td>0.0</td>\n",
       "      <td>1.000000</td>\n",
       "      <td>0.0</td>\n",
       "      <td>0.0</td>\n",
       "      <td>0.0</td>\n",
       "      <td>0.333333</td>\n",
       "      <td>0.333333</td>\n",
       "      <td>1.0</td>\n",
       "      <td>0.000000</td>\n",
       "    </tr>\n",
       "    <tr>\n",
       "      <th>3</th>\n",
       "      <td>Lysophosphatidylcholine LPC(20:4/0:0)</td>\n",
       "      <td>[M-CH3]-</td>\n",
       "      <td>528.308783</td>\n",
       "      <td>1.688300</td>\n",
       "      <td>LMGP01050048</td>\n",
       "      <td>[C@](COP(=O)([O-])OCC[N+](C)(C)C)([H])(O)COC(C...</td>\n",
       "      <td>0.610037</td>\n",
       "      <td>0.055279</td>\n",
       "      <td>0.098896</td>\n",
       "      <td>5.761018e-07</td>\n",
       "      <td>...</td>\n",
       "      <td>1.0</td>\n",
       "      <td>0.0</td>\n",
       "      <td>0.666667</td>\n",
       "      <td>0.0</td>\n",
       "      <td>0.0</td>\n",
       "      <td>0.0</td>\n",
       "      <td>0.333333</td>\n",
       "      <td>0.333333</td>\n",
       "      <td>1.0</td>\n",
       "      <td>0.107143</td>\n",
       "    </tr>\n",
       "    <tr>\n",
       "      <th>4</th>\n",
       "      <td>Acylcarnitine (20:2)</td>\n",
       "      <td>[M+H]+</td>\n",
       "      <td>452.373400</td>\n",
       "      <td>2.070000</td>\n",
       "      <td>LMFA07070011</td>\n",
       "      <td>C(C([O-])=O)C(OC(CCCCCCCCC/C=C\\C/C=C\\CCCCC)=O)...</td>\n",
       "      <td>0.699670</td>\n",
       "      <td>0.708316</td>\n",
       "      <td>0.184461</td>\n",
       "      <td>5.693446e-01</td>\n",
       "      <td>...</td>\n",
       "      <td>1.0</td>\n",
       "      <td>0.0</td>\n",
       "      <td>0.333333</td>\n",
       "      <td>0.0</td>\n",
       "      <td>0.0</td>\n",
       "      <td>0.0</td>\n",
       "      <td>0.333333</td>\n",
       "      <td>0.333333</td>\n",
       "      <td>0.0</td>\n",
       "      <td>0.321429</td>\n",
       "    </tr>\n",
       "  </tbody>\n",
       "</table>\n",
       "<p>5 rows × 103 columns</p>\n",
       "</div>"
      ],
      "text/plain": [
       "                                   metabolite    adduct       mzmed     rtmed  \\\n",
       "0  Acylcarnitine (12:0) - Dodecanoylcarnitine    [M+H]+  344.277684  0.901868   \n",
       "1         Lysophosphatidic acid LPA(18:2/0:0)    [M-H]-  433.234137  1.388567   \n",
       "2       Lysophosphatidylcholine LPC(22:6/0:0)    [M+H]+  568.339800  1.620000   \n",
       "3       Lysophosphatidylcholine LPC(20:4/0:0)  [M-CH3]-  528.308783  1.688300   \n",
       "4                        Acylcarnitine (20:2)    [M+H]+  452.373400  2.070000   \n",
       "\n",
       "  database.accession.code                                             SMILES  \\\n",
       "0            LMFA07070062   O(C(CCCCCCCCCCC)=O)[C@H](CC([O-])=O)C[N+](C)(C)C   \n",
       "1            LMGP10050017  [C@](COP(=O)(O)O)([H])(O)COC(CCCCCCC/C=C\\C/C=C...   \n",
       "2            LMGP01050056  [C@](COP(=O)([O-])OCC[N+](C)(C)C)([H])(O)COC(C...   \n",
       "3            LMGP01050048  [C@](COP(=O)([O-])OCC[N+](C)(C)C)([H])(O)COC(C...   \n",
       "4            LMFA07070011  C(C([O-])=O)C(OC(CCCCCCCCC/C=C\\C/C=C\\CCCCC)=O)...   \n",
       "\n",
       "   MaxEStateIndex  MinAbsEStateIndex       qed  MinPartialCharge  ...  \\\n",
       "0        0.647828           0.688651  0.518523      5.693446e-01  ...   \n",
       "1        0.522406           0.796962  0.212748      8.102200e-01  ...   \n",
       "2        0.610732           0.069236  0.125675      5.761018e-07  ...   \n",
       "3        0.610037           0.055279  0.098896      5.761018e-07  ...   \n",
       "4        0.699670           0.708316  0.184461      5.693446e-01  ...   \n",
       "\n",
       "   fr_Ndealkylation1  fr_Ndealkylation2  fr_allylic_oxid  fr_amide  \\\n",
       "0                1.0                0.0         0.000000       0.0   \n",
       "1                0.0                0.0         0.333333       0.0   \n",
       "2                1.0                0.0         1.000000       0.0   \n",
       "3                1.0                0.0         0.666667       0.0   \n",
       "4                1.0                0.0         0.333333       0.0   \n",
       "\n",
       "   fr_aryl_methyl  fr_bicyclic  fr_ester  fr_ether  fr_phos_acid  \\\n",
       "0             0.0          0.0  0.333333  0.333333           0.0   \n",
       "1             0.0          0.0  0.333333  0.333333           1.0   \n",
       "2             0.0          0.0  0.333333  0.333333           1.0   \n",
       "3             0.0          0.0  0.333333  0.333333           1.0   \n",
       "4             0.0          0.0  0.333333  0.333333           0.0   \n",
       "\n",
       "   fr_unbrch_alkane  \n",
       "0          0.250000  \n",
       "1          0.250000  \n",
       "2          0.000000  \n",
       "3          0.107143  \n",
       "4          0.321429  \n",
       "\n",
       "[5 rows x 103 columns]"
      ]
     },
     "execution_count": 22,
     "metadata": {},
     "output_type": "execute_result"
    }
   ],
   "source": [
    "valid_data.head()"
   ]
  },
  {
   "cell_type": "code",
   "execution_count": 23,
   "metadata": {},
   "outputs": [],
   "source": [
    "X_train = train_data.iloc[:,6:].values\n",
    "y_train = train_data.iloc[:,3].values\n",
    "X_valid = valid_data.iloc[:,6:].values\n",
    "y_valid = valid_data.iloc[:,3].values"
   ]
  },
  {
   "cell_type": "code",
   "execution_count": 24,
   "metadata": {},
   "outputs": [],
   "source": [
    "predictions = []\n",
    "for param in model_params:\n",
    "    model = SVR()\n",
    "    model.set_params(**param)\n",
    "    model.fit(X_train, y_train)\n",
    "    \n",
    "    y_pred = model.predict(X_valid)\n",
    "    predictions.append(y_pred)"
   ]
  },
  {
   "cell_type": "code",
   "execution_count": 25,
   "metadata": {},
   "outputs": [],
   "source": [
    "y_hat = list(map(lambda x: sum(x)/len(x), np.array(predictions).T))"
   ]
  },
  {
   "cell_type": "code",
   "execution_count": 26,
   "metadata": {},
   "outputs": [
    {
     "data": {
      "text/plain": [
       "0.959862923364996"
      ]
     },
     "execution_count": 26,
     "metadata": {},
     "output_type": "execute_result"
    }
   ],
   "source": [
    "r2_score(y_valid, y_hat)"
   ]
  },
  {
   "cell_type": "code",
   "execution_count": 27,
   "metadata": {},
   "outputs": [
    {
     "data": {
      "text/plain": [
       "0.4638484762508079"
      ]
     },
     "execution_count": 27,
     "metadata": {},
     "output_type": "execute_result"
    }
   ],
   "source": [
    "mean_squared_error(y_valid, y_hat,squared=False)"
   ]
  },
  {
   "cell_type": "code",
   "execution_count": 28,
   "metadata": {
    "scrolled": true
   },
   "outputs": [
    {
     "data": {
      "text/plain": [
       "0.38230360809141495"
      ]
     },
     "execution_count": 28,
     "metadata": {},
     "output_type": "execute_result"
    }
   ],
   "source": [
    "MAE(y_valid, y_hat)"
   ]
  },
  {
   "cell_type": "code",
   "execution_count": 32,
   "metadata": {},
   "outputs": [
    {
     "data": {
      "text/plain": [
       "0.35325995731752435"
      ]
     },
     "execution_count": 32,
     "metadata": {},
     "output_type": "execute_result"
    }
   ],
   "source": [
    "median_absolute_error(y_valid, y_hat)"
   ]
  },
  {
   "cell_type": "code",
   "execution_count": 29,
   "metadata": {},
   "outputs": [
    {
     "data": {
      "text/plain": [
       "49"
      ]
     },
     "execution_count": 29,
     "metadata": {},
     "output_type": "execute_result"
    }
   ],
   "source": [
    "len(y_hat)"
   ]
  },
  {
   "cell_type": "code",
   "execution_count": 31,
   "metadata": {},
   "outputs": [],
   "source": [
    "pred_df = pd.DataFrame(y_hat)\n",
    "pred_df.columns = ['SVR_pred']\n",
    "pred_df.to_csv(\"Combined_Validation_Predict_SVR.csv\", index=False)"
   ]
  },
  {
   "cell_type": "markdown",
   "metadata": {},
   "source": [
    "# 5. Plot y_true and y_pred"
   ]
  },
  {
   "cell_type": "code",
   "execution_count": 36,
   "metadata": {},
   "outputs": [
    {
     "data": {
      "text/plain": [
       "Text(0, 0.5, 'Predicted Retention Time (min)')"
      ]
     },
     "execution_count": 36,
     "metadata": {},
     "output_type": "execute_result"
    },
    {
     "data": {
      "image/png": "[encoded data removed]",
      "text/plain": [
       "<Figure size 720x444.96 with 1 Axes>"
      ]
     },
     "metadata": {},
     "output_type": "display_data"
    }
   ],
   "source": [
    "fig, ax = plt.subplots(figsize=(10,6.18))\n",
    "fig.patch.set_facecolor('white')\n",
    "ax.grid(True, which='major', linestyle=':')\n",
    "ax.spines['left'].set_visible(False)\n",
    "ax.spines['right'].set_visible(False)\n",
    "ax.spines['top'].set_visible(False)\n",
    "\n",
    "ax.plot(y_valid, y_hat, 'o')\n",
    "ax.plot(y_valid, y_valid, '--', color='red', linewidth=2.5)\n",
    "# ax.legend()\n",
    "\n",
    "fig.suptitle(\"The predicted RT versus true RT in SVR\", y=0.96, fontsize=14, fontweight='bold')\n",
    "ax.set_xlabel(\"True Retention Time (min)\", fontdict={'fontsize': 12})\n",
    "ax.set_ylabel(\"Predicted Retention Time (min)\", fontdict={'fontsize': 12})\n",
    "\n",
    "# fig.savefig(\"SVR_validation_pred_true.png\", dpi=300)"
   ]
  },
  {
   "cell_type": "code",
   "execution_count": null,
   "metadata": {},
   "outputs": [],
   "source": []
  }
 ],
 "metadata": {
  "kernelspec": {
   "display_name": "Python 3",
   "language": "python",
   "name": "python3"
  },
  "language_info": {
   "codemirror_mode": {
    "name": "ipython",
    "version": 3
   },
   "file_extension": ".py",
   "mimetype": "text/x-python",
   "name": "python",
   "nbconvert_exporter": "python",
   "pygments_lexer": "ipython3",
   "version": "3.7.9"
  }
 },
 "nbformat": 4,
 "nbformat_minor": 4
}
